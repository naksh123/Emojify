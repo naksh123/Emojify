{
 "cells": [
  {
   "cell_type": "markdown",
   "id": "99acce9d",
   "metadata": {},
   "source": [
    "# Emojify - Facial Expression to Emoji Mapper"
   ]
  },
  {
   "cell_type": "markdown",
   "id": "51ca8a23",
   "metadata": {},
   "source": [
    "### Libraries"
   ]
  },
  {
   "cell_type": "code",
   "execution_count": null,
   "id": "30eab573",
   "metadata": {},
   "outputs": [],
   "source": [
    "import glob\n",
    "from IPython.display import Image,HTML, display\n",
    "import tkinter as tk\n",
    "from tkinter import * \n",
    "import numpy as np\n",
    "import cv2\n",
    "import os\n",
    "import scipy\n",
    "from tensorflow.keras.models import Sequential\n",
    "from tensorflow.keras.layers import Dense,Dropout,Flatten,Conv2D,MaxPooling2D\n",
    "from tensorflow.keras.optimizers import Adam\n",
    "from tensorflow.keras.utils import plot_model\n",
    "from tensorflow.keras.preprocessing.image import ImageDataGenerator\n",
    "from PIL import Image,ImageTk\n",
    "import threading"
   ]
  },
  {
   "cell_type": "markdown",
   "id": "98f03e7f",
   "metadata": {},
   "source": [
    "### Data Splitting for Training and Testing"
   ]
  },
  {
   "cell_type": "code",
   "execution_count": null,
   "id": "2d4ffe61",
   "metadata": {},
   "outputs": [],
   "source": [
    "train_dir = 'data/train'\n",
    "val_dir = 'data/test'\n",
    "train_datagen = ImageDataGenerator(rescale=1./255)\n",
    "val_datagen = ImageDataGenerator(rescale=1./255)\n",
    "#training generator for CNN\n",
    "train_generator = train_datagen.flow_from_directory(\n",
    "       train_dir,\n",
    "       target_size=(48,48),\n",
    "       batch_size=64,\n",
    "       color_mode=\"grayscale\",\n",
    "       class_mode='categorical')\n",
    "#validation generator for CNN\n",
    "validation_generator = val_datagen.flow_from_directory(\n",
    "       val_dir,\n",
    "       target_size=(48,48),\n",
    "       batch_size=64,\n",
    "       color_mode=\"grayscale\",\n",
    "       class_mode='categorical')"
   ]
  },
  {
   "cell_type": "code",
   "execution_count": null,
   "id": "f4925851",
   "metadata": {},
   "outputs": [],
   "source": [
    "for i in os.listdir(\"data/train/\"):\n",
    "    print(str(len(os.listdir(\"data/train/\"+i))) +\" \"+ i +\" images\")"
   ]
  },
  {
   "cell_type": "code",
   "execution_count": null,
   "id": "d2c13a7e",
   "metadata": {},
   "outputs": [],
   "source": [
    "for i in os.listdir(\"data/test/\"):\n",
    "    print(str(len(os.listdir(\"data/test/\"+i))) +\" \"+ i +\" images\")"
   ]
  },
  {
   "cell_type": "markdown",
   "id": "b9b5e901",
   "metadata": {},
   "source": [
    "### Displaying Images/ Data"
   ]
  },
  {
   "cell_type": "code",
   "execution_count": null,
   "id": "cf4ea32b",
   "metadata": {},
   "outputs": [],
   "source": [
    "file_type = \"*.jpg\" # Assuming all jpg images of folder (Not a single)\n",
    "sangry = \"data/train/angry/\"\n",
    "sdisgust = \"data/train/disgust/\"\n",
    "sfear = \"data/train/fear/\"\n",
    "shappy = \"data/train/happy/\"\n",
    "sneutral = \"data/train/neutral/\"\n",
    "ssad = \"data/train/sad/\"\n",
    "ssurprise = \"data/train/surprise/\"\n",
    "no_of_image_to_show = 5\n",
    "\n",
    "def display_n_images(sangry,sdisgust,sfear,shappy,sneutral,ssad,ssurprise, file_type, no_of_image_to_show):\n",
    "    # glob will return list of jpg images\n",
    "    #  splitting list\n",
    "    angry = glob.glob(sangry + file_type) \n",
    "    angry = angry[0:no_of_image_to_show] \n",
    "    disgust = glob.glob(sdisgust + file_type) \n",
    "    disgust = disgust[0:no_of_image_to_show]\n",
    "    fear = glob.glob(sfear + file_type) \n",
    "    fear = fear[0:no_of_image_to_show] \n",
    "    happy = glob.glob(shappy + file_type) \n",
    "    happy = happy[0:no_of_image_to_show]\n",
    "    neutral = glob.glob(sneutral + file_type) \n",
    "    neutral = neutral[0:no_of_image_to_show]\n",
    "    sad = glob.glob(ssad + file_type) \n",
    "    sad = sad[0:no_of_image_to_show]\n",
    "    surprise = glob.glob(ssurprise + file_type) \n",
    "    surprise = surprise[0:no_of_image_to_show]\n",
    "    \n",
    "    print(\"\\t\\t\\t\\t    Angry\")\n",
    "    angryd='\\t'.join( [\"<img style='width: 120px; margin: 0px; float: left; border: 1px solid black;' src='%s' />\" % str(s) \n",
    "                 for s in angry])\n",
    "    display(HTML(angryd))\n",
    "    \n",
    "    print(\"\\n\\t\\t\\t\\t    Disgust\")\n",
    "    disgustd='\\t'.join( [\"<img style='width: 120px; margin: 0px; float: left; border: 1px solid black;' src='%s' />\" % str(s) \n",
    "                 for s in disgust])\n",
    "    display(HTML(disgustd))\n",
    "    \n",
    "    print(\"\\n\\t\\t\\t\\t    Fear\")\n",
    "    feard='\\t'.join( [\"<img style='width: 120px; margin: 0px; float: left; border: 1px solid black;' src='%s' />\" % str(s) \n",
    "                 for s in fear])\n",
    "    display(HTML(feard))\n",
    "    \n",
    "    print(\"\\n\\t\\t\\t\\t    Happy\")\n",
    "    happyd='  '.join( [\"<img style='width: 120px; margin: 0px; float: left; border: 1px solid black;' src='%s' />\" % str(s) \n",
    "                 for s in happy])\n",
    "    display(HTML(happyd))\n",
    "    \n",
    "    print(\"\\n\\t\\t\\t\\t    Neutral\")\n",
    "    neutrald='\\t'.join( [\"<img style='width: 120px; margin: 0px; float: left; border: 1px solid black;' src='%s' />\" % str(s) \n",
    "                 for s in neutral])\n",
    "    display(HTML(neutrald))\n",
    "    \n",
    "    print(\"\\n\\t\\t\\t\\t    Sad\")\n",
    "    sadd='\\t'.join( [\"<img style='width: 120px; margin: 0px; float: left; border: 1px solid black;' src='%s' />\" % str(s) \n",
    "                 for s in sad])\n",
    "    display(HTML(sadd))\n",
    "    \n",
    "    print(\"\\n\\t\\t\\t\\t    Surprise\")\n",
    "    surprised='\\t'.join( [\"<img style='width: 120px; margin: 0px; float: left; border: 1px solid black;' src='%s' />\" % str(s) \n",
    "                 for s in surprise])\n",
    "    display(HTML(surprised))\n",
    "        \n",
    "display_n_images(sangry,sdisgust,sfear,shappy,sneutral,ssad,ssurprise, file_type, no_of_image_to_show)\n"
   ]
  },
  {
   "cell_type": "markdown",
   "id": "5ae060e7",
   "metadata": {},
   "source": [
    "### CNN Model using Keras Sequential API"
   ]
  },
  {
   "cell_type": "code",
   "execution_count": null,
   "id": "60298945",
   "metadata": {},
   "outputs": [],
   "source": [
    "emotion_model = Sequential()\n",
    "emotion_model.add(Conv2D(32, kernel_size=(3, 3), activation='relu', input_shape=(48,48,1)))#output=(48-3+0)/1+1=46\n",
    "emotion_model.add(Conv2D(64, kernel_size=(3, 3), activation='relu'))#output=(46-3+0)/1+1=44\n",
    "emotion_model.add(MaxPooling2D(pool_size=(2, 2)))#output=devided input by 2 it means 22,22,64\n",
    "emotion_model.add(Dropout(0.25))#reduce 25% module at a time of output\n",
    "emotion_model.add(Conv2D(128, kernel_size=(3, 3), activation='relu',input_shape=(48,48,1)))#(22-3+0)/1+1=20\n",
    "emotion_model.add(MaxPooling2D(pool_size=(2, 2)))#10\n",
    "emotion_model.add(Conv2D(128, kernel_size=(3, 3), activation='relu'))#(10-3+0)/1+1=8\n",
    "emotion_model.add(MaxPooling2D(pool_size=(2, 2)))#output=4\n",
    "emotion_model.add(Dropout(0.25))#nothing change\n",
    "emotion_model.add(Flatten())#here we get multidimension output and pass as linear to the dense so that 4*4*128=2048\n",
    "emotion_model.add(Dense(1024, activation='relu'))#hddien of 1024 neurons of input \n",
    "emotion_model.add(Dropout(0.5))\n",
    "emotion_model.add(Dense(7, activation='softmax'))#hddien of 7 neurons of input\n",
    "plot_model(emotion_model, to_file='model_plot.png', show_shapes=True, show_layer_names=True)#save model leyer as model_plot.png\n",
    "emotion_model.summary()"
   ]
  },
  {
   "cell_type": "markdown",
   "id": "4d982a7b",
   "metadata": {},
   "source": [
    "### Training and Testing the Model"
   ]
  },
  {
   "cell_type": "code",
   "execution_count": null,
   "id": "45b30535",
   "metadata": {},
   "outputs": [],
   "source": [
    "emotion_model.compile(loss='categorical_crossentropy',optimizer=Adam(lr=0.0001, decay=1e-6),metrics=['accuracy'])\n",
    "emotion_model_info = emotion_model.fit_generator( #to fetch the model info from validation generator\n",
    "       train_generator,\n",
    "       steps_per_epoch=28709 // 64,\n",
    "       epochs=50,\n",
    "       validation_data=validation_generator,\n",
    "       validation_steps=7178 // 64)"
   ]
  },
  {
   "cell_type": "markdown",
   "id": "7fefb824",
   "metadata": {},
   "source": [
    "### Saving the Model"
   ]
  },
  {
   "cell_type": "code",
   "execution_count": null,
   "id": "9af6cefd",
   "metadata": {},
   "outputs": [],
   "source": [
    "emotion_model.save_weights('model.h5')"
   ]
  },
  {
   "cell_type": "markdown",
   "id": "46d6cbe9",
   "metadata": {},
   "source": [
    "### Output of Emotion Model"
   ]
  },
  {
   "cell_type": "code",
   "execution_count": null,
   "id": "3442f6af",
   "metadata": {},
   "outputs": [],
   "source": [
    "cv2.ocl.setUseOpenCL(False)\n",
    "#emotion dictionary creation\n",
    "em_dict = {0: \"Angry\", 1: \"Disgusted\", 2: \"Fearful\", 3: \"Happy\", 4: \"Neutral\", 5: \"Sad\", 6: \"Surprised\"}\n",
    "cap = cv2.VideoCapture(0)\n",
    "while True:\n",
    "    ret, frame = cap.read()\n",
    "    if not ret:\n",
    "        break\n",
    "    #bounding box initialization  \n",
    "    bounding_box = cv2.CascadeClassifier('C:/Users/vikas/AppData/Roaming/Python/Python310/site-packages/cv2/data/haarcascade_frontalface_default.xml')\n",
    "    gray_frame = cv2.cvtColor(frame, cv2.COLOR_BGR2GRAY)\n",
    "    #to detect the multiple faces and frame them separately   \n",
    "    n_faces = bounding_box.detectMultiScale(gray_frame,scaleFactor=1.3, minNeighbors=5)\n",
    "    for (x, y, w, h) in n_faces:\n",
    "        cv2.rectangle(frame, (x, y-50), (x+w, y+h+10), (255, 0, 0), 2)\n",
    "        roi_frame = gray_frame[y:y + h, x:x + w]\n",
    "        crop_img = np.expand_dims(np.expand_dims(cv2.resize(roi_frame, (48, 48)), -1), 0)\n",
    "        emotion_prediction = emotion_model.predict(crop_img)\n",
    "        maxindex = int(np.argmax(emotion_prediction))\n",
    "        cv2.putText(frame, em_dict[maxindex], (x+20, y-60), cv2.FONT_HERSHEY_SIMPLEX, 1, (255, 255, 255), 2, cv2.LINE_AA)\n",
    "        cv2.imshow('Video', cv2.resize(frame,(1200,860),interpolation = cv2.INTER_CUBIC))\n",
    "    if cv2.waitKey(1) & 0xFF == ord('q'):\n",
    "        cap.release()\n",
    "        cv2.destroyAllWindows()\n",
    "        break"
   ]
  },
  {
   "cell_type": "markdown",
   "id": "afee870d",
   "metadata": {},
   "source": [
    "### Extracting the Features in Model"
   ]
  },
  {
   "cell_type": "code",
   "execution_count": null,
   "id": "a2a68247",
   "metadata": {},
   "outputs": [],
   "source": [
    "emotion_model = Sequential()\n",
    "emotion_model.add(Conv2D(32, kernel_size=(3, 3), activation='relu', input_shape=(48,48,1)))\n",
    "emotion_model.add(Conv2D(64, kernel_size=(3, 3), activation='relu'))\n",
    "emotion_model.add(MaxPooling2D(pool_size=(2, 2)))\n",
    "emotion_model.add(Dropout(0.25))\n",
    "emotion_model.add(Conv2D(128, kernel_size=(3, 3), activation='relu'))\n",
    "emotion_model.add(MaxPooling2D(pool_size=(2, 2)))\n",
    "emotion_model.add(Conv2D(128, kernel_size=(3, 3), activation='relu'))\n",
    "emotion_model.add(MaxPooling2D(pool_size=(2, 2)))\n",
    "emotion_model.add(Dropout(0.25))\n",
    "emotion_model.add(Flatten())\n",
    "emotion_model.add(Dense(1024, activation='relu'))\n",
    "emotion_model.add(Dropout(0.5))\n",
    "emotion_model.add(Dense(7, activation='softmax'))\n",
    "emotion_model.load_weights('model.h5')\n",
    "cv2.ocl.setUseOpenCL(False)"
   ]
  },
  {
   "cell_type": "markdown",
   "id": "6ba1fe32",
   "metadata": {},
   "source": [
    "### Final Ouput (Face Detection using Haarcascade and Mapping of Emoji with the Emotions)"
   ]
  },
  {
   "cell_type": "code",
   "execution_count": null,
   "id": "a40d2689",
   "metadata": {},
   "outputs": [],
   "source": [
    "#  Using openCV haarcascade xml detect the bounding boxes of face in the webcam and predict the emotions:\n",
    "\n",
    "\n",
    "emotion_dict = {0: \"Sad\", 1: \"Disgusted\", 2: \"Fearful\", 3: \"Happy\", 4: \"Neutral\", 5: \"Angry\", 6: \"Surprised\"}\n",
    "\n",
    "emoji_dist={0:\"C:/Users/vikas/Desktop/College/ML/Project/emojis/disgust.png\",2:\"C:/Users/vikas/Desktop/College/ML/Project/emojis/fear.png\",3:\"C:/Users/vikas/Desktop/College/ML/Project/emojis/happy.png\",4:\"C:/Users/vikas/Desktop/College/ML/Project/emojis/neutral.png\",5:\"C:/Users/vikas/Desktop/College/ML/Project/emojis/angry.png\",6:\"C:/Users/vikas/Desktop/College/ML/Project/emojis/surprised.png\"}\n",
    "\n",
    "global last_frame1\n",
    "last1_frame1 = np.zeros((448,640,3), dtype = np.uint8)\n",
    "global cap1\n",
    "show_text = [0]\n",
    "global frame_number\n",
    "\n",
    "\n",
    "#  Using openCV haarcascade xml to detect the bounding boxes of face in the webcam and predict the emotions:\n",
    "\n",
    "def show_subject():\n",
    "    cap1 = cv2.VideoCapture(0)\n",
    "    if not cap1.isOpened():\n",
    "        print(\"Can't open the camera\")\n",
    "    global frame_number\n",
    "    length = int(cap1.get(cv2.CAP_PROP_FRAME_COUNT))\n",
    "    frame_number += 1\n",
    "    if frame_number >= length:\n",
    "        exit()\n",
    "    cap1.set(1, frame_number)\n",
    "    flag1, frame1 = cap1.read()\n",
    "    frame1 = cv2.resize(frame1,(600,500))\n",
    "    bounding_box = cv2.CascadeClassifier('C:/Users/vikas/AppData/Roaming/Python/Python310/site-packages/cv2/data/haarcascade_frontalface_default.xml')\n",
    "    gray_frame = cv2.cvtColor(frame1, cv2.COLOR_BGR2GRAY)\n",
    "    num_faces = bounding_box.detectMultiScale(gray_frame,scaleFactor=1.3, minNeighbors=5)\n",
    "    for (x,y,w,h) in num_faces:\n",
    "        cv2.rectangle(frame1, (x,y-50), (x+w, y+h+10), (255,0,0), 2)\n",
    "        roi_gray_frame = gray_frame[y:y + h, x:x + w]\n",
    "        cropped_img = np.expand_dims(np.expand_dims(cv2.resize(roi_gray_frame, (48,48)), -1), 0)\n",
    "        prediction = emotion_model.predict(cropped_img)\n",
    "        maxindex = int(np.argmax(prediction))\n",
    "        cv2.putText(frame1, emotion_dict[maxindex], (x+20, y-60), cv2.FONT_HERSHEY_SIMPLEX,1,(255,255,255),2,cv2.LINE_AA)\n",
    "        show_text[0] = maxindex\n",
    "        \n",
    "    if flag1 is None:\n",
    "        print(\"Major error!\")\n",
    "    elif flag1:\n",
    "        global last_frame1\n",
    "        last_frame1 = frame1.copy()\n",
    "        pic = cv2.cvtColor(last_frame1,cv2.COLOR_BGR2RGB)\n",
    "        img = Image.fromarray(pic)\n",
    "        imgtk = ImageTk.PhotoImage(image=img)\n",
    "        lmain.imgtk = imgtk\n",
    "        lmain.configure(image = imgtk)\n",
    "        root.update()\n",
    "        lmain.after(10,show_subject)\n",
    "    if cv2.waitKey(1) & 0xFF == ord('q'):\n",
    "        exit()\n",
    "\n",
    "#  Function to display the emoji after detecting the emotion of the face\n",
    "        \n",
    "def show_avatar():\n",
    "    frame2 = cv2.imread(emoji_dist[show_text[0]])\n",
    "    pic2 = cv2.cvtColor(frame2,cv2.COLOR_BGR2RGB)\n",
    "    img2 = Image.fromarray(frame2)\n",
    "    imgtk2 = ImageTk.PhotoImage(image=img2)\n",
    "    lmain2.imgtk2 = imgtk2\n",
    "    lmain3.configure(text=emotion_dict[show_text[0]],font=('arial',45,'bold'))\n",
    "    \n",
    "    lmain2.configure(image = imgtk2)\n",
    "    root.update()\n",
    "    lmain2.after(10,show_avatar())\n",
    "               \n",
    "        \n",
    "\n",
    "if __name__ == '__main__':\n",
    "    frame_number = 0\n",
    "    root=tk.Tk()   \n",
    "    lmain = tk.Label(master=root,padx=50,bd=10)\n",
    "    lmain2 = tk.Label(master=root,bd=10)\n",
    "    lmain3=tk.Label(master=root,bd=10,fg=\"#CDCDCD\",bg='black')\n",
    "    lmain.pack(side=LEFT)\n",
    "    lmain.place(x=50,y=250)\n",
    "    lmain3.pack()\n",
    "    lmain3.place(x=960,y=250)\n",
    "    lmain2.pack(side=RIGHT)\n",
    "    lmain2.place(x=900,y=350)\n",
    "    \n",
    "    root.title(\"Photo To Emoji\")            \n",
    "    root.geometry(\"1400x900+100+10\") \n",
    "    root['bg']='black'\n",
    "    exitButton = Button(root, text='Quit',fg=\"red\",command=root.destroy,font=('arial',25,'bold')).pack(side = BOTTOM)\n",
    "    threading.Thread(target = show_subject()).start()\n",
    "    threading.Thread(target = show_avatar()).start()\n",
    "    root.mainloop()"
   ]
  },
  {
   "cell_type": "code",
   "execution_count": null,
   "id": "2b097e49",
   "metadata": {},
   "outputs": [],
   "source": []
  }
 ],
 "metadata": {
  "kernelspec": {
   "display_name": "Python 3 (ipykernel)",
   "language": "python",
   "name": "python3"
  },
  "language_info": {
   "codemirror_mode": {
    "name": "ipython",
    "version": 3
   },
   "file_extension": ".py",
   "mimetype": "text/x-python",
   "name": "python",
   "nbconvert_exporter": "python",
   "pygments_lexer": "ipython3",
   "version": "3.10.5"
  }
 },
 "nbformat": 4,
 "nbformat_minor": 5
}
